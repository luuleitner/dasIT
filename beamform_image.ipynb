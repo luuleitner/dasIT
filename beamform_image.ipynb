{
  "nbformat": 4,
  "nbformat_minor": 0,
  "metadata": {
    "colab": {
      "name": "beamform_image.ipynb",
      "provenance": [],
      "toc_visible": true,
      "authorship_tag": "ABX9TyPJbzsG2m+7Yermx0xE2r/C",
      "include_colab_link": true
    },
    "kernelspec": {
      "name": "python3",
      "display_name": "Python 3"
    },
    "language_info": {
      "name": "python"
    }
  },
  "cells": [
    {
      "cell_type": "markdown",
      "metadata": {
        "id": "view-in-github",
        "colab_type": "text"
      },
      "source": [
        "<a href=\"https://colab.research.google.com/github/luuleitner/dasIT/blob/main/beamform_image.ipynb\" target=\"_parent\"><img src=\"https://colab.research.google.com/assets/colab-badge.svg\" alt=\"Open In Colab\"/></a>"
      ]
    },
    {
      "cell_type": "markdown",
      "source": [
        "#Setup"
      ],
      "metadata": {
        "id": "zZWwByv0AJft",
        "pycharm": {
          "name": "#%% md\n"
        }
      }
    },
    {
      "cell_type": "markdown",
      "source": [
        "###Fetch the newest dasIT package from the github repository"
      ],
      "metadata": {
        "id": "5Udqw7M89AS8"
      }
    },
    {
      "cell_type": "code",
      "execution_count": null,
      "metadata": {
        "id": "MG3zPvi7_7n6",
        "pycharm": {
          "name": "#%%\n"
        }
      },
      "outputs": [],
      "source": [
        "# install dasIT from the GitHub repository\n",
        "\n",
        "!pip install git+https://github.com/luuleitner/dasIT"
      ]
    },
    {
      "cell_type": "markdown",
      "source": [
        "###Import dependencies"
      ],
      "metadata": {
        "id": "wSCQ4Ohy9QTr"
      }
    },
    {
      "cell_type": "code",
      "source": [
        "# import necessary packages\n",
        "import os\n",
        "import numpy as np\n",
        "from datetime import datetime\n",
        "from matplotlib import pyplot as plt\n",
        "\n",
        "# to run dasIT, we need to import the necessary commands from the library\n",
        "from dasIT.data.loader import RFDataloader, TDloader, TGCloader\n",
        "from dasIT.features.transducer import transducer\n",
        "from dasIT.features.medium import medium\n",
        "from dasIT.features.tgc import tg_compensation\n",
        "from dasIT.src.delays import planewave_delays\n",
        "from dasIT.src.apodization import apodization\n",
        "from dasIT.src.das_bf import RXbeamformer\n",
        "from dasIT.features.signal import RFfilter, fftsignal, analytic_signal\n",
        "from dasIT.features.image import interp_lateral\n",
        "from dasIT.visualization.signal_callback import amp_freq_1channel, amp_1channel\n",
        "from dasIT.visualization.image_callback import plot_signal_grid, plot_signal_image"
      ],
      "metadata": {
        "id": "g1K4FuwHEYUw",
        "pycharm": {
          "name": "#%%\n"
        }
      },
      "execution_count": null,
      "outputs": []
    },
    {
      "cell_type": "markdown",
      "source": [
        "###Download the example dataset"
      ],
      "metadata": {
        "id": "iTg0Zlnr9Yqb"
      }
    },
    {
      "cell_type": "code",
      "source": [
        "# import 5 RF-data frames captured on a Verasonics Vantage 256 system*, using a GE-9LD transducer, and a CIRS generalpurpose ultrasound phantom.\n",
        "#\n",
        "# * Leitner et al. 2020, \"Detection of Motor Endplates in Deep and Pennate Skeletal Muscles in-vivo using Ultrafast Ultrasound\",\n",
        "# 2020 IEEE International Ultrasonics Symposium (IUS).\n",
        "#\n",
        "\n",
        "rfdata_path = '/content/rfdata'\n",
        "\n",
        "if os.path.exists(rfdata_path) == False:\n",
        "  os.mkdir(rfdata_path)\n",
        "  os.chdir(rfdata_path)\n",
        "  !wget -i https://raw.githubusercontent.com/luuleitner/dasIT/main/example_data/CIRSphantom_GE9LD_VVantage/COLABdownload_url.txt\n",
        "\n",
        "os.chdir(rfdata_path)"
      ],
      "metadata": {
        "id": "63mAzYS8BFLi",
        "pycharm": {
          "name": "#%%\n"
        }
      },
      "execution_count": null,
      "outputs": []
    },
    {
      "cell_type": "markdown",
      "source": [
        "#dasIT Transducer and Medium"
      ],
      "metadata": {
        "id": "-jGbzDHf5ygS"
      }
    },
    {
      "cell_type": "code",
      "source": [
        "# dasIT transducer\n",
        "physical_transducer = TDloader('transducer.csv')\n",
        "dasIT_transducer = transducer(center_frequency_hz=physical_transducer.transducer['center frequency'].dropna().to_numpy(dtype='float', copy=False),  # [Hz]\n",
        "                              bandwidth_hz=physical_transducer.transducer['bandwidth'].dropna().to_numpy(dtype='float', copy=False),    # [Hz]\n",
        "                              adc_ratio=4,  # [-]\n",
        "                              transducer_elements_nr=physical_transducer.transducer['number of elements'].dropna().to_numpy(dtype='float', copy=False), # [#]\n",
        "                              element_pitch_m=physical_transducer.transducer['element pitch'].dropna().to_numpy(dtype='float', copy=False), # [m]\n",
        "                              pinmap=physical_transducer.transducer['pinmap'].dropna().to_numpy(dtype='int', copy=False),   # [-]\n",
        "                              pinmapbase=1, # [-]\n",
        "                              elevation_focus=0.028, # [m]\n",
        "                              focus_number=None,\n",
        "                              totalnr_planewaves=1,     # [-]\n",
        "                              planewave_angle_interval=[0,0],   # [rad]\n",
        "                              axial_cutoff_wavelength=5,  # [#]\n",
        "                              speed_of_sound_ms = 1540)  # [m/s]\n",
        "\n",
        "print(f'Transducer properties:')\n",
        "print()\n",
        "vars(dasIT_transducer)"
      ],
      "metadata": {
        "id": "616yq0Qt32qS"
      },
      "execution_count": null,
      "outputs": []
    },
    {
      "cell_type": "code",
      "source": [
        "# dasIT medium\n",
        "dasIT_medium = medium(speed_of_sound_ms = 1540, # [m/s]\n",
        "                      center_frequency = dasIT_transducer.center_frequency, # [Hz]\n",
        "                      sampling_frequency = dasIT_transducer.sampling_frequency, # [Hz]\n",
        "                      max_depth_wavelength = 177,   # [#]\n",
        "                      lateral_transducer_element_spacing = dasIT_transducer.lateral_transducer_spacing, # [m]\n",
        "                      axial_extrapolation_coef = 1.05,  # [-]\n",
        "                      attenuation_coefficient= 0.75,   # [dB/(MHz^y cm)]\n",
        "                      attenuation_power=1.5   # [-]\n",
        "                      )"
      ],
      "metadata": {
        "id": "SxGBb8ta4AZZ"
      },
      "execution_count": null,
      "outputs": []
    },
    {
      "cell_type": "markdown",
      "source": [
        "#Load and Preprocess RF-data"
      ],
      "metadata": {
        "id": "mDgvCWG86ltD"
      }
    },
    {
      "cell_type": "code",
      "source": [
        "### Load RF Data\n",
        "RFdata = RFDataloader('CIRS_phantom.h5')\n",
        "\n",
        "### Preprocess (Clip and Sort) RF Data\n",
        "# Samples start: at first recorded echo (number of wavelength distance is provided from vendor)\n",
        "# -> null out the rest to not overshadow the real results\n",
        "# Samples end: at penetration depth -> clip rest of samples without data\n",
        "# If necessary sort the transducer channels according to the pin map to get the channels first-last channel\n",
        "RFdata.signal[:dasIT_transducer.start_depth_rec_samples, :, :] = 0\n",
        "RFdata.signal = RFdata.signal[:dasIT_medium.rx_echo_totalnr_samples, dasIT_transducer.transducer_pinmap, :]\n",
        "\n",
        "print(f'Channels of transducer: {RFdata.signal.shape[1]}')\n",
        "print(f'Samples per channel: {RFdata.signal.shape[0]}')\n",
        "print(f'Number of frames: {RFdata.signal.shape[2]}')"
      ],
      "metadata": {
        "id": "KK9AOdAo4w86"
      },
      "execution_count": null,
      "outputs": []
    },
    {
      "cell_type": "code",
      "source": [
        "# Plot channel 156\n",
        "channel =156\n",
        "fig = plt.figure(figsize=(5, 1), dpi=100)\n",
        "ax_1 = fig.add_subplot(111)\n",
        "ax_1.plot(RFdata.signal[:,channel,0])\n",
        "ax_1.set_xlabel('Samples [#]')\n",
        "ax_1.set_ylabel('Signal [V]')\n",
        "ax_1.set_title(f'RF-data channel {channel}')"
      ],
      "metadata": {
        "id": "JOyXzIScBJeW"
      },
      "execution_count": null,
      "outputs": []
    },
    {
      "cell_type": "markdown",
      "source": [
        "#Signal Preprocessing"
      ],
      "metadata": {
        "id": "4zyGVBUv6zIX"
      }
    },
    {
      "cell_type": "markdown",
      "source": [
        "###Time Gain Compensation"
      ],
      "metadata": {
        "id": "yv78hR5m63HH"
      }
    },
    {
      "cell_type": "code",
      "source": [
        "# Load tgc-waveform\n",
        "tgc_cntrl_points = TGCloader(controlpt_path='tgc_cntrl_pt.csv')\n",
        "# Apply TGC\n",
        "TGCsignals = tg_compensation(signals=RFdata.signal,\n",
        "                             medium=dasIT_medium,\n",
        "                             center_frequency=dasIT_transducer.center_frequency,\n",
        "                             cntrl_points=tgc_cntrl_points,\n",
        "                             mode='points')"
      ],
      "metadata": {
        "id": "p92HG89Z4UeG"
      },
      "execution_count": null,
      "outputs": []
    },
    {
      "cell_type": "code",
      "source": [
        "# Plot channel 156\n",
        "fig = plt.figure(figsize=(5, 3), dpi=100)\n",
        "ax_1 = fig.add_subplot(211)\n",
        "ax_1.plot(RFdata.signal[:,channel,0])\n",
        "ax_1.set_xlabel('Samples [#]')\n",
        "ax_1.set_ylabel('Signal [V]')\n",
        "ax_1.set_title(f'RF-data channel {channel}')\n",
        "\n",
        "ax_2 = fig.add_subplot(212)\n",
        "ax_2.plot(TGCsignals.signals[:,channel,0],'r')\n",
        "ax_2.set_xlabel('Samples [#]')\n",
        "ax_2.set_ylabel('Signal [V]')\n",
        "ax_2.set_title(f'TGC RF-data channel {channel}')\n",
        "\n",
        "plt.tight_layout()\n",
        "plt.show()"
      ],
      "metadata": {
        "id": "ZHivWWApGqXm"
      },
      "execution_count": null,
      "outputs": []
    },
    {
      "cell_type": "markdown",
      "source": [
        "###Filtering"
      ],
      "metadata": {
        "id": "mzwp_99z67-X"
      }
    },
    {
      "cell_type": "code",
      "source": [
        "### Filter RF Data\n",
        "RFdata_filtered = RFfilter(signals=TGCsignals.signals,\n",
        "                           fcutoff_band=dasIT_transducer.bandwidth,\n",
        "                           fsampling=dasIT_transducer.sampling_frequency,\n",
        "                           type='gaussian',\n",
        "                           order=10)"
      ],
      "metadata": {
        "id": "ojhUkJJS5ITS"
      },
      "execution_count": null,
      "outputs": []
    },
    {
      "cell_type": "code",
      "source": [
        "# Plot channel 156\n",
        "fftFil = fftsignal(RFdata_filtered.signal[:,channel,0], dasIT_transducer.sampling_frequency)\n",
        "\n",
        "fig = plt.figure(figsize=(6, 5), dpi=100)\n",
        "ax_1 = fig.add_subplot(311)\n",
        "ax_1.plot(RFdata.signal[:,channel,0])\n",
        "ax_1.set_xlabel('Samples [#]')\n",
        "ax_1.set_ylabel('Signal [V]')\n",
        "ax_1.set_title(f'RF-data channel {channel}')\n",
        "\n",
        "ax_2 = fig.add_subplot(312)\n",
        "ax_2.plot(RFdata_filtered.signal[:,channel,0],'r')\n",
        "ax_2.set_xlabel('Samples [#]')\n",
        "ax_2.set_ylabel('Signal [V]')\n",
        "ax_2.set_title(f'Filtered RF-data channel {channel}')\n",
        " \n",
        "ax_3 = fig.add_subplot(313)\n",
        "ax_3.plot(fftFil[0], fftFil[1], 'r')\n",
        "ax_3.set_xlabel('Frequency [MHz]')\n",
        "ax_3.set_ylabel('Power [W/Hz]')\n",
        "ax_3.set_title(f'FFT channel {channel}')\n",
        "\n",
        "plt.tight_layout()\n",
        "plt.show()"
      ],
      "metadata": {
        "id": "WqEuePowI2GU"
      },
      "execution_count": null,
      "outputs": []
    },
    {
      "cell_type": "markdown",
      "source": [
        "###Convert to analytical signal"
      ],
      "metadata": {
        "id": "7hbl_EpI7E_H"
      }
    },
    {
      "cell_type": "code",
      "source": [
        "####################################################################\n",
        "#------------------------ Analytical Signal -----------------------#\n",
        "\n",
        "### Hilbert Transform\n",
        "RFdata_analytic = analytic_signal(np.squeeze(RFdata_filtered.signal), interp=False)"
      ],
      "metadata": {
        "id": "KmVtMV1l5Np2"
      },
      "execution_count": null,
      "outputs": []
    },
    {
      "cell_type": "code",
      "source": [
        "RFdata_analytic[:,channel,0].imag"
      ],
      "metadata": {
        "id": "Sq_nWRVMLDEo"
      },
      "execution_count": null,
      "outputs": []
    },
    {
      "cell_type": "code",
      "source": [
        "# Plot channel 156\n",
        "fftFil = fftsignal(RFdata_filtered.signal[:,channel,0], dasIT_transducer.sampling_frequency)\n",
        "\n",
        "fig = plt.figure(figsize=(5, 3), dpi=100)\n",
        "ax_1 = fig.add_subplot(211)\n",
        "ax_1.plot(RFdata.signal[:,channel,0])\n",
        "ax_1.set_xlabel('Samples [#]')\n",
        "ax_1.set_ylabel('Signal [V]')\n",
        "ax_1.set_title(f'RF-data channel {channel}')\n",
        "\n",
        "ax_2 = fig.add_subplot(212)\n",
        "ax_2.plot(RFdata_analytic[:,channel,0].real,'r')\n",
        "ax_2.plot(abs(RFdata_analytic[:,channel,0]),'g')\n",
        "ax_2.set_xlabel('Samples [#]')\n",
        "ax_2.set_ylabel('Signal [V]')\n",
        "ax_2.set_title(f'Analytic signal channel {channel}')\n",
        "\n",
        "plt.tight_layout()\n",
        "plt.show()"
      ],
      "metadata": {
        "id": "-QmyF4oOKfAs"
      },
      "execution_count": null,
      "outputs": []
    },
    {
      "cell_type": "markdown",
      "source": [
        "#Beamforming"
      ],
      "metadata": {
        "id": "Z-Ey87AD7K6j"
      }
    },
    {
      "cell_type": "markdown",
      "source": [
        "###Element directivity and focus"
      ],
      "metadata": {
        "id": "04U10e3B7NBD"
      }
    },
    {
      "cell_type": "code",
      "source": [
        "####################################################################\n",
        "#-------------------------- Apodization Table --------------------------#\n",
        "\n",
        "apodization = apodization(delays=None,\n",
        "                          medium=dasIT_medium.medium,\n",
        "                          transducer=dasIT_transducer,\n",
        "                          apo='rec',\n",
        "                          angles=dasIT_transducer.planewave_angles())"
      ],
      "metadata": {
        "id": "XOPIp3Wf5Y62"
      },
      "execution_count": null,
      "outputs": []
    },
    {
      "cell_type": "markdown",
      "source": [
        "###Delay tables"
      ],
      "metadata": {
        "id": "zkQuqbnY7RKY"
      }
    },
    {
      "cell_type": "code",
      "source": [
        "####################################################################\n",
        "#-------------------------- Delay Tables --------------------------#\n",
        "\n",
        "### DAS delay tabels for tilted planewaves\n",
        "delay_table = planewave_delays(medium=dasIT_medium.medium,\n",
        "                               sos=dasIT_medium.speed_of_sound,\n",
        "                               fsampling=dasIT_transducer.sampling_frequency,\n",
        "                               angles=dasIT_transducer.planewave_angles())"
      ],
      "metadata": {
        "id": "3c6c6-i75fjA"
      },
      "execution_count": null,
      "outputs": []
    },
    {
      "cell_type": "markdown",
      "source": [
        "###Beamforming"
      ],
      "metadata": {
        "id": "0xFt_u7G7eVf"
      }
    },
    {
      "cell_type": "code",
      "source": [
        "####################################################################\n",
        "#-------------------------- Beamforming ---------------------------#\n",
        "start_das_timing = datetime.now()\n",
        "\n",
        "# Mask images areas in axial direction which have been included for reconstruction\n",
        "# but are not part of the actual image.\n",
        "RFsignals = RFdata_analytic[:,:,0]\n",
        "\n",
        "RFsignals = np.expand_dims(RFsignals, 2)\n",
        "RFsignals = np.repeat(RFsignals, RFsignals.shape[1], axis=2)\n",
        "RFsignals = np.expand_dims(RFsignals, 3)\n",
        "\n",
        "BFsignals = RXbeamformer(signals=RFsignals,\n",
        "                         delays=delay_table.sample_delays,\n",
        "                         apodization=apodization.table)"
      ],
      "metadata": {
        "id": "2O0NeHW45k9C"
      },
      "execution_count": null,
      "outputs": []
    },
    {
      "cell_type": "markdown",
      "source": [
        "#Image Formation"
      ],
      "metadata": {
        "id": "8W0MGYU27kNn"
      }
    },
    {
      "cell_type": "code",
      "source": [
        "####################################################################\n",
        "#------------------------ Image Formation --------------------------\n",
        "\n",
        "# Envelope\n",
        "BFsignals.envelope = abs(BFsignals.frame)\n",
        "\n",
        "# Interpolate over Lateral space\n",
        "BFsignals.interpolated = interp_lateral(signals=BFsignals.envelope,\n",
        "                                        transducer=dasIT_transducer,\n",
        "                                        medium=dasIT_medium,\n",
        "                                        scale=3)\n",
        "\n",
        "\n",
        "# Plot image\n",
        "plot_signal_grid(signals=BFsignals.interpolated.signals_lateral_interp,\n",
        "                 axis_vectors_xz=BFsignals.interpolated.imagegrid_mm,\n",
        "                 axial_clip=[dasIT_transducer.start_depth_rec_m, None],\n",
        "                 compression=True,\n",
        "                 dbrange=58)"
      ],
      "metadata": {
        "id": "kINmM40C5nrW"
      },
      "execution_count": null,
      "outputs": []
    }
  ]
}