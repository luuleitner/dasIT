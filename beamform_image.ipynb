{
 "nbformat": 4,
 "nbformat_minor": 0,
 "metadata": {
  "colab": {
   "name": "beamform_image.ipynb",
   "provenance": [],
   "authorship_tag": "ABX9TyPLE36vfkE0OkL6VioODKLF",
   "include_colab_link": true
  },
  "kernelspec": {
   "name": "python3",
   "display_name": "Python 3"
  },
  "language_info": {
   "name": "python"
  }
 },
 "cells": [
  {
   "cell_type": "markdown",
   "metadata": {
    "id": "view-in-github",
    "colab_type": "text",
    "pycharm": {
     "name": "#%% md\n"
    }
   },
   "source": [
    "<a href=\"https://colab.research.google.com/github/luuleitner/dasIT/blob/main/beamform_image.ipynb\" target=\"_parent\"><img src=\"https://colab.research.google.com/assets/colab-badge.svg\" alt=\"Open In Colab\"/></a>"
   ]
  },
  {
   "cell_type": "markdown",
   "source": [
    "#Setup"
   ],
   "metadata": {
    "id": "zZWwByv0AJft",
    "pycharm": {
     "name": "#%% md\n"
    }
   }
  },
  {
   "cell_type": "code",
   "execution_count": null,
   "metadata": {
    "id": "MG3zPvi7_7n6",
    "pycharm": {
     "name": "#%%\n"
    }
   },
   "outputs": [],
   "source": [
    "# install dasIT from the GitHub repository\n",
    "\n",
    "!pip install git+https://github.com/luuleitner/dasIT"
   ]
  },
  {
   "cell_type": "code",
   "source": [
    "import os\n"
   ],
   "metadata": {
    "id": "g1K4FuwHEYUw",
    "pycharm": {
     "name": "#%%\n"
    }
   },
   "execution_count": 1,
   "outputs": []
  },
  {
   "cell_type": "code",
   "source": [
    "# import 5 RF-data frames captured on a Verasonics Vantage 256 system*, using a GE-9LD transducer, and a CIRS generalpurpose ultrasound phantom.\n",
    "#\n",
    "# * Leitner et al. 2020, \"Detection of Motor Endplates in Deep and Pennate Skeletal Muscles in-vivo using Ultrafast Ultrasound\",\n",
    "# 2020 IEEE International Ultrasonics Symposium (IUS).\n",
    "#\n",
    "\n",
    "rfdata_path = '/content/rfdata'\n",
    "\n",
    "if os.path.exists(rfdata_path) == False:\n",
    "  os.mkdir(rfdata_path)\n",
    "  os.chdir(rfdata_path)\n",
    "  !wget -i https://raw.githubusercontent.com/luuleitner/dasIT/main/example_data/CIRSphantom_GE9LD_VVantage/COLABdownload_url.txt\n",
    "\n",
    "os.chdir(rfdata_path)"
   ],
   "metadata": {
    "colab": {
     "base_uri": "https://localhost:8080/"
    },
    "id": "63mAzYS8BFLi",
    "outputId": "fb157969-19ff-4fac-9487-7e5126115364",
    "pycharm": {
     "name": "#%%\n"
    }
   },
   "execution_count": 6,
   "outputs": [
    {
     "output_type": "stream",
     "name": "stdout",
     "text": [
      "--2022-08-04 13:45:13--  https://raw.githubusercontent.com/luuleitner/dasIT/main/example_data/CIRSphantom_GE9LD_VVantage/COLABdownload_url.txt\n",
      "Resolving raw.githubusercontent.com (raw.githubusercontent.com)... 185.199.110.133, 185.199.111.133, 185.199.108.133, ...\n",
      "Connecting to raw.githubusercontent.com (raw.githubusercontent.com)|185.199.110.133|:443... connected.\n",
      "HTTP request sent, awaiting response... 200 OK\n",
      "Length: 337 [text/plain]\n",
      "Saving to: ‘COLABdownload_url.txt’\n",
      "\n",
      "\rCOLABdownload_url.t   0%[                    ]       0  --.-KB/s               \rCOLABdownload_url.t 100%[===================>]     337  --.-KB/s    in 0s      \n",
      "\n",
      "2022-08-04 13:45:14 (14.9 MB/s) - ‘COLABdownload_url.txt’ saved [337/337]\n",
      "\n",
      "--2022-08-04 13:45:14--  https://raw.githubusercontent.com/luuleitner/dasIT/main/example_data/CIRSphantom_GE9LD_VVantage/CIRS_phantom.h5\n",
      "Reusing existing connection to raw.githubusercontent.com:443.\n",
      "HTTP request sent, awaiting response... 200 OK\n",
      "Length: 31501608 (30M) [application/octet-stream]\n",
      "Saving to: ‘CIRS_phantom.h5’\n",
      "\n",
      "CIRS_phantom.h5     100%[===================>]  30.04M  --.-KB/s    in 0.1s    \n",
      "\n",
      "2022-08-04 13:45:15 (262 MB/s) - ‘CIRS_phantom.h5’ saved [31501608/31501608]\n",
      "\n",
      "--2022-08-04 13:45:15--  https://raw.githubusercontent.com/luuleitner/dasIT/main/example_data/CIRSphantom_GE9LD_VVantage/tgc_cntrl_pt.csv\n",
      "Reusing existing connection to raw.githubusercontent.com:443.\n",
      "HTTP request sent, awaiting response... 200 OK\n",
      "Length: 32 [text/plain]\n",
      "Saving to: ‘tgc_cntrl_pt.csv’\n",
      "\n",
      "tgc_cntrl_pt.csv    100%[===================>]      32  --.-KB/s    in 0s      \n",
      "\n",
      "2022-08-04 13:45:15 (1.31 MB/s) - ‘tgc_cntrl_pt.csv’ saved [32/32]\n",
      "\n",
      "--2022-08-04 13:45:15--  https://raw.githubusercontent.com/luuleitner/dasIT/main/example_data/CIRSphantom_GE9LD_VVantage/tgc_waveform.csv\n",
      "Reusing existing connection to raw.githubusercontent.com:443.\n",
      "HTTP request sent, awaiting response... 200 OK\n",
      "Length: 2048 (2.0K) [text/plain]\n",
      "Saving to: ‘tgc_waveform.csv’\n",
      "\n",
      "tgc_waveform.csv    100%[===================>]   2.00K  --.-KB/s    in 0s      \n",
      "\n",
      "2022-08-04 13:45:15 (99.4 MB/s) - ‘tgc_waveform.csv’ saved [2048/2048]\n",
      "\n",
      "FINISHED --2022-08-04 13:45:15--\n",
      "Total wall clock time: 1.9s\n",
      "Downloaded: 4 files, 30M in 0.1s (262 MB/s)\n"
     ]
    }
   ]
  }
 ]
}